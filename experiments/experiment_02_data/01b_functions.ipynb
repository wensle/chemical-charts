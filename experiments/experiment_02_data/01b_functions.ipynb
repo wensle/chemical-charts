{
 "cells": [
  {
   "attachments": {},
   "cell_type": "markdown",
   "metadata": {},
   "source": [
    "When generating synthetic data, the aim is usually to create data that has some of the characteristics of the real data you're interested in, while being simpler or faster to generate. \n",
    "\n",
    "In your case, since you're creating synthetic data for mixing enthalpy as a function of three variables (Al, Cu, and Y compositions), you might want to create functions that reflect possible characteristics of such data. \n",
    "\n",
    "Here are a few more synthetic data functions you could try:\n",
    "\n",
    "1. Simple Polynomial:\n",
    "```python\n",
    "enthalpy_synthetic = Al**2 + Cu**2 + Y**2\n",
    "```\n",
    "\n",
    "2. Polynomial with Interaction Terms:\n",
    "```python\n",
    "enthalpy_synthetic = Al**2 + Cu**2 + Y**2 + 2*Al*Cu + 2*Cu*Y + 2*Al*Y\n",
    "```\n",
    "\n",
    "3. Non-Linear Function:\n",
    "```python\n",
    "enthalpy_synthetic = np.sin(Al) * np.exp(-Cu) * np.log(1 + Y)\n",
    "```\n",
    "\n",
    "4. Random Noise:\n",
    "```python\n",
    "enthalpy_synthetic = np.random.normal(0, 1, Al.shape)  # normal-distributed noise\n",
    "```\n",
    "\n",
    "5. Function with a Minimum or Maximum (e.g., at the average composition):\n",
    "```python\n",
    "enthalpy_synthetic = (Al - 0.33)**2 + (Cu - 0.33)**2 + (Y - 0.33)**2\n",
    "```\n",
    "\n",
    "6. Combination of Function and Random Noise:\n",
    "```python\n",
    "enthalpy_synthetic = Al**2 + Cu**2 + Y**2 + np.random.normal(0, 0.1, Al.shape)\n",
    "```\n",
    "\n",
    "Remember that these are just example functions. Depending on your specific needs, you might want to create a function that reflects some specific feature of your data. Also, if you have some limited real data, you might want to create a synthetic data function that reproduces the known features of that data."
   ]
  },
  {
   "cell_type": "code",
   "execution_count": null,
   "metadata": {},
   "outputs": [],
   "source": []
  }
 ],
 "metadata": {
  "language_info": {
   "name": "python"
  },
  "orig_nbformat": 4
 },
 "nbformat": 4,
 "nbformat_minor": 2
}
